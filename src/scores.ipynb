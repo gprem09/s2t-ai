{
 "cells": [
  {
   "cell_type": "code",
   "execution_count": 1,
   "metadata": {},
   "outputs": [],
   "source": [
    "import json\n",
    "from compute_bleu import bleu\n",
    "from compute_error import wer_cer"
   ]
  },
  {
   "cell_type": "code",
   "execution_count": 2,
   "metadata": {},
   "outputs": [],
   "source": [
    "def load_data_and_compute_score(metadata_path, transcriptions_file):\n",
    "    with open(metadata_path, 'r', encoding='utf-8') as file:\n",
    "        ground_truths = {line.split('|')[0]: line.split('|')[2].strip() for line in file}\n",
    "\n",
    "    with open(transcriptions_file, 'r', encoding='utf-8') as f:\n",
    "        predictions = json.load(f)\n",
    "\n",
    "    gt_list = [ground_truths[filename] for filename in predictions if filename in ground_truths]\n",
    "    pred_list = [predictions[filename] for filename in predictions if filename in ground_truths]\n",
    "\n",
    "    bleu(gt_list, pred_list)\n",
    "    wer_cer(gt_list, pred_list)"
   ]
  },
  {
   "cell_type": "markdown",
   "metadata": {},
   "source": [
    "## Default model score"
   ]
  },
  {
   "cell_type": "code",
   "execution_count": 3,
   "metadata": {},
   "outputs": [],
   "source": [
    "metadata_path = '/Users/gprem/Desktop/s2t-ai/dataset/metadata.csv'\n",
    "transcriptions_file = 'transcriptions.json'"
   ]
  },
  {
   "cell_type": "code",
   "execution_count": 4,
   "metadata": {},
   "outputs": [
    {
     "name": "stdout",
     "output_type": "stream",
     "text": [
      "scores: {'bleu': 0.057152420801295824, 'unigram': 0.3185642061338682, 'bigram': 0.09672854302042537, 'trigram': 0.06968618506240001}\n",
      "scores: {'wer': 101.48884137000913, 'cer': 82.36253784069024}\n"
     ]
    }
   ],
   "source": [
    "load_data_and_compute_score(metadata_path, transcriptions_file)"
   ]
  },
  {
   "cell_type": "markdown",
   "metadata": {},
   "source": [
    "## Finetuned model score"
   ]
  },
  {
   "cell_type": "code",
   "execution_count": 5,
   "metadata": {},
   "outputs": [],
   "source": [
    "metadata_path = '/Users/gprem/Desktop/s2t-ai/dataset/metadata.csv'\n",
    "transcriptions_file = 'transcriptions_finetuned.json'"
   ]
  },
  {
   "cell_type": "code",
   "execution_count": 6,
   "metadata": {},
   "outputs": [
    {
     "name": "stdout",
     "output_type": "stream",
     "text": [
      "scores: {'bleu': 63.175115557049324, 'unigram': 79.06108675755173, 'bigram': 73.14630416509556, 'trigram': 68.19490980158808}\n",
      "scores: {'wer': 23.116734001294393, 'cer': 5.199495397968901}\n"
     ]
    }
   ],
   "source": [
    "load_data_and_compute_score(metadata_path, transcriptions_file)"
   ]
  }
 ],
 "metadata": {
  "kernelspec": {
   "display_name": "venv",
   "language": "python",
   "name": "python3"
  },
  "language_info": {
   "codemirror_mode": {
    "name": "ipython",
    "version": 3
   },
   "file_extension": ".py",
   "mimetype": "text/x-python",
   "name": "python",
   "nbconvert_exporter": "python",
   "pygments_lexer": "ipython3",
   "version": "3.11.0"
  }
 },
 "nbformat": 4,
 "nbformat_minor": 2
}
