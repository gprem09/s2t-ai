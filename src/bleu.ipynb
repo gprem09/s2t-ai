{
 "cells": [
  {
   "cell_type": "code",
   "execution_count": 1,
   "metadata": {},
   "outputs": [],
   "source": [
    "import json\n",
    "from compute_bleu import bleu"
   ]
  },
  {
   "cell_type": "code",
   "execution_count": 2,
   "metadata": {},
   "outputs": [],
   "source": [
    "def load_data_and_compute_bleu(metadata_path, transcriptions_file):\n",
    "    with open(metadata_path, 'r', encoding='utf-8') as file:\n",
    "        ground_truths = {line.split('|')[0]: line.split('|')[2].strip() for line in file}\n",
    "\n",
    "    with open(transcriptions_file, 'r', encoding='utf-8') as f:\n",
    "        predictions = json.load(f)\n",
    "\n",
    "    gt_list = [ground_truths[filename] for filename in predictions if filename in ground_truths]\n",
    "    pred_list = [predictions[filename] for filename in predictions if filename in ground_truths]\n",
    "\n",
    "    bleu(gt_list, pred_list)"
   ]
  },
  {
   "cell_type": "code",
   "execution_count": null,
   "metadata": {},
   "outputs": [],
   "source": [
    "metadata_path = '/Users/gprem/Desktop/s2t-ai/dataset/metadata.csv'\n",
    "transcriptions_file = 'transcriptions.json'"
   ]
  }
 ],
 "metadata": {
  "kernelspec": {
   "display_name": "venv",
   "language": "python",
   "name": "python3"
  },
  "language_info": {
   "codemirror_mode": {
    "name": "ipython",
    "version": 3
   },
   "file_extension": ".py",
   "mimetype": "text/x-python",
   "name": "python",
   "nbconvert_exporter": "python",
   "pygments_lexer": "ipython3",
   "version": "3.11.0"
  }
 },
 "nbformat": 4,
 "nbformat_minor": 2
}
